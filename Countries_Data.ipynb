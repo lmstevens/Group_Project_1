{
 "cells": [
  {
   "cell_type": "code",
   "execution_count": 1,
   "metadata": {},
   "outputs": [],
   "source": [
    "import pandas as pd\n",
    "import numpy as np\n",
    "import requests\n",
    "import json\n",
    "from pandas.io.json import json_normalize"
   ]
  },
  {
   "cell_type": "code",
   "execution_count": 4,
   "metadata": {},
   "outputs": [
    {
     "name": "stderr",
     "output_type": "stream",
     "text": [
      "C:\\Users\\walsh\\anaconda3\\lib\\site-packages\\ipykernel_launcher.py:4: FutureWarning: pandas.io.json.json_normalize is deprecated, use pandas.json_normalize instead\n",
      "  after removing the cwd from sys.path.\n",
      "C:\\Users\\walsh\\anaconda3\\lib\\site-packages\\ipykernel_launcher.py:9: FutureWarning: pandas.io.json.json_normalize is deprecated, use pandas.json_normalize instead\n",
      "  if __name__ == '__main__':\n"
     ]
    }
   ],
   "source": [
    "# URL for GET requests to retrieve global count data and all countries data\n",
    "url1 = \"https://coronavirus-19-api.herokuapp.com/all\"\n",
    "response = requests.get(url1)\n",
    "All_df = json_normalize(response2.json(), errors='ignore')\n",
    "\n",
    "# uploading cases/deaths by country and formatting dataframe\n",
    "url2 = \"https://coronavirus-19-api.herokuapp.com/countries\"\n",
    "response2 = requests.get(url2)\n",
    "Countries_df = json_normalize(response2.json(), errors='ignore')\n",
    "Countries_df = Countries_df.iloc[:,[0,1,2,3,4,5,6,7]] \n",
    "\n",
    "#imported data on SES and created a dataframe\n",
    "globses = pd.read_csv(\"CSV Folder/GLOB.csv\", encoding = 'latin-1')\n",
    "globses = globses[globses[\"year\"]==2010]\n",
    "globses = globses.reset_index(drop = True)\n",
    "\n",
    "#merged ses data with countries Covid Data\n",
    "combined_Countries_df_data = pd.merge(Countries_df, globses, how=\"left\", on=[\"country\", \"country\"])  \n",
    "combined_Countries_df_data.dropna(inplace =True) \n",
    "combined_Countries_df_data.reset_index(inplace = True, drop = True) \n",
    "\n",
    "#read in government type file and inner merge on country\n",
    "df3 = pd.read_csv(\"CSV Folder/Gov_type.csv\")\n",
    "combined_Countries_df_data2 = combined_Countries_df_data.merge(df3, how=\"inner\", left_on=\"country\", right_on=\"Country\") \n",
    "combined_Countries_df_data2.drop(columns= \"Country\", inplace =True)"
   ]
  },
  {
   "cell_type": "code",
   "execution_count": 5,
   "metadata": {},
   "outputs": [
    {
     "data": {
      "text/html": [
       "<div>\n",
       "<style scoped>\n",
       "    .dataframe tbody tr th:only-of-type {\n",
       "        vertical-align: middle;\n",
       "    }\n",
       "\n",
       "    .dataframe tbody tr th {\n",
       "        vertical-align: top;\n",
       "    }\n",
       "\n",
       "    .dataframe thead th {\n",
       "        text-align: right;\n",
       "    }\n",
       "</style>\n",
       "<table border=\"1\" class=\"dataframe\">\n",
       "  <thead>\n",
       "    <tr style=\"text-align: right;\">\n",
       "      <th></th>\n",
       "      <th>country</th>\n",
       "      <th>cases</th>\n",
       "      <th>todayCases</th>\n",
       "      <th>deaths</th>\n",
       "      <th>todayDeaths</th>\n",
       "      <th>recovered</th>\n",
       "      <th>active</th>\n",
       "      <th>critical</th>\n",
       "      <th>unid</th>\n",
       "      <th>wbid</th>\n",
       "      <th>year</th>\n",
       "      <th>SES</th>\n",
       "      <th>gdppc</th>\n",
       "      <th>yrseduc</th>\n",
       "      <th>popshare</th>\n",
       "      <th>Government Type</th>\n",
       "    </tr>\n",
       "  </thead>\n",
       "  <tbody>\n",
       "    <tr>\n",
       "      <th>0</th>\n",
       "      <td>Spain</td>\n",
       "      <td>198674</td>\n",
       "      <td>0</td>\n",
       "      <td>20453</td>\n",
       "      <td>0</td>\n",
       "      <td>77357.0</td>\n",
       "      <td>100864</td>\n",
       "      <td>7371</td>\n",
       "      <td>724.0</td>\n",
       "      <td>ESP</td>\n",
       "      <td>2010.0</td>\n",
       "      <td>85.359718</td>\n",
       "      <td>32506.434</td>\n",
       "      <td>10.3821</td>\n",
       "      <td>0.006912</td>\n",
       "      <td>parliamentary constitutional monarchy</td>\n",
       "    </tr>\n",
       "    <tr>\n",
       "      <th>1</th>\n",
       "      <td>Italy</td>\n",
       "      <td>178972</td>\n",
       "      <td>0</td>\n",
       "      <td>23660</td>\n",
       "      <td>0</td>\n",
       "      <td>47055.0</td>\n",
       "      <td>108257</td>\n",
       "      <td>2635</td>\n",
       "      <td>380.0</td>\n",
       "      <td>ITA</td>\n",
       "      <td>2010.0</td>\n",
       "      <td>85.016357</td>\n",
       "      <td>36201.160</td>\n",
       "      <td>9.5096</td>\n",
       "      <td>0.008797</td>\n",
       "      <td>parliamentary republic</td>\n",
       "    </tr>\n",
       "    <tr>\n",
       "      <th>2</th>\n",
       "      <td>France</td>\n",
       "      <td>152894</td>\n",
       "      <td>0</td>\n",
       "      <td>19718</td>\n",
       "      <td>0</td>\n",
       "      <td>36578.0</td>\n",
       "      <td>96598</td>\n",
       "      <td>5744</td>\n",
       "      <td>250.0</td>\n",
       "      <td>FRA</td>\n",
       "      <td>2010.0</td>\n",
       "      <td>88.194969</td>\n",
       "      <td>36872.227</td>\n",
       "      <td>10.5329</td>\n",
       "      <td>0.009650</td>\n",
       "      <td>semi-presidential republic</td>\n",
       "    </tr>\n",
       "    <tr>\n",
       "      <th>3</th>\n",
       "      <td>Germany</td>\n",
       "      <td>145742</td>\n",
       "      <td>0</td>\n",
       "      <td>4642</td>\n",
       "      <td>0</td>\n",
       "      <td>88000.0</td>\n",
       "      <td>53100</td>\n",
       "      <td>2889</td>\n",
       "      <td>276.0</td>\n",
       "      <td>DEU</td>\n",
       "      <td>2010.0</td>\n",
       "      <td>92.546394</td>\n",
       "      <td>40428.723</td>\n",
       "      <td>11.8231</td>\n",
       "      <td>0.012136</td>\n",
       "      <td>federal parliamentary republic</td>\n",
       "    </tr>\n",
       "    <tr>\n",
       "      <th>4</th>\n",
       "      <td>Turkey</td>\n",
       "      <td>86306</td>\n",
       "      <td>0</td>\n",
       "      <td>2017</td>\n",
       "      <td>0</td>\n",
       "      <td>11976.0</td>\n",
       "      <td>72313</td>\n",
       "      <td>1922</td>\n",
       "      <td>792.0</td>\n",
       "      <td>TUR</td>\n",
       "      <td>2010.0</td>\n",
       "      <td>60.248875</td>\n",
       "      <td>17076.605</td>\n",
       "      <td>7.0157</td>\n",
       "      <td>0.010731</td>\n",
       "      <td>presidential republic</td>\n",
       "    </tr>\n",
       "  </tbody>\n",
       "</table>\n",
       "</div>"
      ],
      "text/plain": [
       "   country   cases  todayCases  deaths  todayDeaths  recovered  active  \\\n",
       "0    Spain  198674           0   20453            0    77357.0  100864   \n",
       "1    Italy  178972           0   23660            0    47055.0  108257   \n",
       "2   France  152894           0   19718            0    36578.0   96598   \n",
       "3  Germany  145742           0    4642            0    88000.0   53100   \n",
       "4   Turkey   86306           0    2017            0    11976.0   72313   \n",
       "\n",
       "   critical   unid wbid    year        SES      gdppc  yrseduc  popshare  \\\n",
       "0      7371  724.0  ESP  2010.0  85.359718  32506.434  10.3821  0.006912   \n",
       "1      2635  380.0  ITA  2010.0  85.016357  36201.160   9.5096  0.008797   \n",
       "2      5744  250.0  FRA  2010.0  88.194969  36872.227  10.5329  0.009650   \n",
       "3      2889  276.0  DEU  2010.0  92.546394  40428.723  11.8231  0.012136   \n",
       "4      1922  792.0  TUR  2010.0  60.248875  17076.605   7.0157  0.010731   \n",
       "\n",
       "                         Government Type  \n",
       "0  parliamentary constitutional monarchy  \n",
       "1                 parliamentary republic  \n",
       "2             semi-presidential republic  \n",
       "3         federal parliamentary republic  \n",
       "4                  presidential republic  "
      ]
     },
     "execution_count": 5,
     "metadata": {},
     "output_type": "execute_result"
    }
   ],
   "source": [
    "\n",
    "combined_Countries_df_data2.head()\n"
   ]
  },
  {
   "cell_type": "code",
   "execution_count": null,
   "metadata": {},
   "outputs": [],
   "source": []
  },
  {
   "cell_type": "code",
   "execution_count": null,
   "metadata": {},
   "outputs": [],
   "source": []
  },
  {
   "cell_type": "code",
   "execution_count": null,
   "metadata": {},
   "outputs": [],
   "source": [
    "\n"
   ]
  },
  {
   "cell_type": "code",
   "execution_count": null,
   "metadata": {},
   "outputs": [],
   "source": []
  }
 ],
 "metadata": {
  "kernelspec": {
   "display_name": "Python 3",
   "language": "python",
   "name": "python3"
  },
  "language_info": {
   "codemirror_mode": {
    "name": "ipython",
    "version": 3
   },
   "file_extension": ".py",
   "mimetype": "text/x-python",
   "name": "python",
   "nbconvert_exporter": "python",
   "pygments_lexer": "ipython3",
   "version": "3.7.6"
  },
  "varInspector": {
   "cols": {
    "lenName": 16,
    "lenType": 16,
    "lenVar": 40
   },
   "kernels_config": {
    "python": {
     "delete_cmd_postfix": "",
     "delete_cmd_prefix": "del ",
     "library": "var_list.py",
     "varRefreshCmd": "print(var_dic_list())"
    },
    "r": {
     "delete_cmd_postfix": ") ",
     "delete_cmd_prefix": "rm(",
     "library": "var_list.r",
     "varRefreshCmd": "cat(var_dic_list()) "
    }
   },
   "types_to_exclude": [
    "module",
    "function",
    "builtin_function_or_method",
    "instance",
    "_Feature"
   ],
   "window_display": false
  }
 },
 "nbformat": 4,
 "nbformat_minor": 2
}
