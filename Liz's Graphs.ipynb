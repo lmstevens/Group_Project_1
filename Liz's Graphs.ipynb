{
 "cells": [
  {
   "cell_type": "code",
   "execution_count": null,
   "metadata": {},
   "outputs": [],
   "source": [
    "#Liz Graphs\n",
    "#- pie chart total recovered (decided to not create because 1/3 of states lack recovery data)\n",
    "#- # of beds (% beds utilized) compared to total deaths\n",
    "#- Chart the top 10 and bottom 10 states based on rank, next to their total cases/deaths/#hospitals/#beds (TO DEZBUNK NEW YORK)\n",
    "#compare averages of the top 10 to the bottom 10 -- prove there might be a statistically significant difference"
   ]
  },
  {
   "cell_type": "code",
   "execution_count": 1,
   "metadata": {},
   "outputs": [],
   "source": [
    "import matplotlib.pyplot as plt\n",
    "import pandas as pd\n",
    "import numpy as np\n",
    "import requests\n",
    "import time \n",
    "import csv\n",
    "import os\n",
    "from pprint import pprint\n",
    "from pandas.io.json import json_normalize\n",
    "from scipy.stats import linregress"
   ]
  },
  {
   "cell_type": "code",
   "execution_count": 2,
   "metadata": {},
   "outputs": [],
   "source": [
    "#Liz's Hospital Dataframe\n",
    "\n",
    "\n",
    "\n",
    "#read in .csv file\n",
    "hospital_data = pd.read_csv(\"CSV Folder/hospitals.csv\")\n",
    "\n",
    "#set index to state_name\n",
    "hospital_data.set_index(\"state_name\",inplace=True)\n",
    "\n",
    "#group dataframe by state_name\n",
    "hg = hospital_data.groupby('state_name')\n",
    "\n",
    "#do count of hg dataframe (where it groups by states)to get total count of hospitals, doctors, staff,\n",
    "#icu beds, and icu beds utilized. Then add each series to new dataframe called 'state_hospital_data'\n",
    "\n",
    "hg[\"num_icu_be\"].count()\n",
    "state_hospital_data = pd.DataFrame(hg[\"num_icu_be\"].count())\n",
    "\n",
    "hospitals = hg[\"hospital_n\"].count()\n",
    "state_hospital_data[\"Number of Hospitals\"]=hospitals\n",
    "\n",
    "doctors = hg[\"num_licens\"].count()\n",
    "state_hospital_data[\"Number of Doctors\"]=doctors\n",
    "\n",
    "staff = hg[\"num_staffe\"].count()\n",
    "state_hospital_data[\"Number of Staff\"]=staff\n",
    "\n",
    "icu_beds = hg[\"num_icu_be\"].count()\n",
    "state_hospital_data[\"ICU Beds Available\"]=icu_beds\n",
    "\n",
    "bed_utiliz = hg[\"bed_utiliz\"].count()\n",
    "state_hospital_data[\"ICU Beds Utilized\"]=bed_utiliz\n",
    "\n",
    "#drop double num_icu_be column\n",
    "state_hospital_data.drop(\"num_icu_be\",axis=1, inplace = True)"
   ]
  },
  {
   "cell_type": "code",
   "execution_count": 3,
   "metadata": {},
   "outputs": [
    {
     "name": "stderr",
     "output_type": "stream",
     "text": [
      "/Users/lizstevens/opt/anaconda3/lib/python3.7/site-packages/ipykernel_launcher.py:5: FutureWarning: pandas.io.json.json_normalize is deprecated, use pandas.json_normalize instead\n",
      "  \"\"\"\n"
     ]
    }
   ],
   "source": [
    "# reaching out to API to get current overall state data pertaining to cases, tests, hospitalizations, and deaths\n",
    "url3 = \"https://covidtracking.com/api/states\"\n",
    "response3 = requests.get(url3)\n",
    "#Turned entire response into a dataframe\n",
    "US_df = json_normalize(response3.json(), errors='ignore')\n",
    "#Narrowed df to specific columns of interest \n",
    "US_df = US_df.iloc[:,[0,1,8,9,22,16,10,19]]\n",
    "\n",
    "#Read in a State Name Abbrev CSV so that df's could be joined with different state naming conventions\n",
    "st_abrev = pd.read_csv(\"CSV Folder/Covid Analysis Data - StateNameAbrev.csv\")\n",
    "\n",
    "# Replacing the state abbreviation with names for joining to other data\n",
    "tests_df = st_abrev.merge(US_df, how = 'inner',left_on = \"Abbreviation\",right_on = \"state\")\n",
    "\n",
    "#Droping abbreviation column since no other dataset used abbrev.\n",
    "tests_df.drop(columns = [\"Abbreviation\",\"state\"],inplace = True)\n",
    "\n",
    "#Joined hospital information with the general information\n",
    "comb1_df= tests_df.merge(state_hospital_data,how = 'inner',left_on = \"State\",right_on = \"state_name\")\n",
    "#comb1_df.drop(columns = \"state_name\", inplace = True)\n",
    "\n",
    "#Read in file about rankings of aggressive measures limiting the virus spread\n",
    "States_Most_Aggressive_Measures_df = pd.read_csv(\"CSV Folder/States with the Most Aggressive Measures in Limiting Virus Exposure.csv\", encoding ='latin-1')\n",
    "\n",
    "#Joined rankings data\n",
    "comb2_df = comb1_df.merge(States_Most_Aggressive_Measures_df, how = 'inner', on = 'State' )\n",
    "\n",
    "#Renamed Column Headers\n",
    "comb2_df.rename(columns = {\"positive\":\"Positive\",\n",
    "                           \"negative\":\"Negative\",\n",
    "                           \"pending\":\"Pending\",\n",
    "                           \"totalTestResults\": \"Total Tested\",\n",
    "                           \"recovered\": \"Recovered\",\n",
    "                           \"hospitalizedCurrently\":\"Currently Hospitalized\",\n",
    "                           \"death\": \"Total Deaths\",\n",
    "                           \"num_icu_be\":\"ICU Beds\",\n",
    "                           \"Prevention & Containment Rank\": \"Prevention & Containment Rank\",\n",
    "                           \"Risk Factors & Infrastructure Rank\": \"Risk Factors & Infrastructure Rank\",\n",
    "                           \"Economic Impact Rank\": \"Economic Impact Rank\"}, inplace = True)"
   ]
  },
  {
   "cell_type": "code",
   "execution_count": 9,
   "metadata": {},
   "outputs": [],
   "source": [
    "\n",
    "pop_df = pd.read_csv(\"CSV Folder/SCPRC-EST2019-18+POP-RES.csv\")\n",
    "pop_df= pop_df[[\"NAME\", \"POPESTIMATE2019\",\"POPEST18PLUS2019\",\"PCNT_POPEST18PLUS\"]]\n",
    "pop_df = pop_df.rename(columns = {\"NAME\": \"State\",\"POPESTIMATE2019\":\"2019 Pop Est\",\"POPEST18PLUS2019\":\"2019 18+\",\"PCNT_POPEST18PLUS\":\"Percent 18+\"})"
   ]
  },
  {
   "cell_type": "code",
   "execution_count": 10,
   "metadata": {},
   "outputs": [
    {
     "name": "stdout",
     "output_type": "stream",
     "text": [
      "The r-squared is: 0.04437632368905361\n"
     ]
    },
    {
     "data": {
      "image/png": "[encoded data removed]",
      "text/plain": [
       "<Figure size 432x288 with 1 Axes>"
      ]
     },
     "metadata": {
      "needs_background": "light"
     },
     "output_type": "display_data"
    },
    {
     "data": {
      "text/plain": [
       "<Figure size 432x288 with 0 Axes>"
      ]
     },
     "metadata": {},
     "output_type": "display_data"
    }
   ],
   "source": [
    "x_values = comb2_df[\"ICU Beds Utilized\"]\n",
    "y_values = comb2_df[\"Total Deaths\"]\n",
    "plt.scatter(x_values,y_values)\n",
    "plt.xlabel(\"ICU Beds Utilized by State\")\n",
    "plt.ylabel(\"Total Deaths by State\")\n",
    "plt.title(\"ICU Beds Utilized VS. Total Deaths by State\")\n",
    "\n",
    "\n",
    "(slope, intercept, rvalue, pvalue, stderr) = linregress(x_values, y_values)\n",
    "regress_values = x_values * slope + intercept\n",
    "line_eq = \"y = \" + str(round(slope,2)) + \"x + \" + str(round(intercept,2))\n",
    "plt.plot(x_values,regress_values,\"r-\")\n",
    "plt.annotate(line_eq,(300,10000),fontsize=15,color=\"red\")\n",
    "print(f\"The r-squared is: {rvalue**2}\")\n",
    "plt.show()\n",
    "plt.savefig(\"Graph_PNGs_Folder/liz_bedsvsdeaths1.png\")"
   ]
  },
  {
   "cell_type": "code",
   "execution_count": 6,
   "metadata": {},
   "outputs": [
    {
     "data": {
      "text/html": [
       "<div>\n",
       "<style scoped>\n",
       "    .dataframe tbody tr th:only-of-type {\n",
       "        vertical-align: middle;\n",
       "    }\n",
       "\n",
       "    .dataframe tbody tr th {\n",
       "        vertical-align: top;\n",
       "    }\n",
       "\n",
       "    .dataframe thead th {\n",
       "        text-align: right;\n",
       "    }\n",
       "</style>\n",
       "<table border=\"1\" class=\"dataframe\">\n",
       "  <thead>\n",
       "    <tr style=\"text-align: right;\">\n",
       "      <th></th>\n",
       "      <th>State</th>\n",
       "      <th>2019 Pop Est</th>\n",
       "      <th>Overall Rank</th>\n",
       "      <th>Total Deaths</th>\n",
       "    </tr>\n",
       "  </thead>\n",
       "  <tbody>\n",
       "    <tr>\n",
       "      <th>0</th>\n",
       "      <td>Alabama</td>\n",
       "      <td>4903185</td>\n",
       "      <td>48</td>\n",
       "      <td>194.0</td>\n",
       "    </tr>\n",
       "    <tr>\n",
       "      <th>1</th>\n",
       "      <td>Alaska</td>\n",
       "      <td>731545</td>\n",
       "      <td>3</td>\n",
       "      <td>9.0</td>\n",
       "    </tr>\n",
       "    <tr>\n",
       "      <th>2</th>\n",
       "      <td>Arizona</td>\n",
       "      <td>7278717</td>\n",
       "      <td>39</td>\n",
       "      <td>229.0</td>\n",
       "    </tr>\n",
       "    <tr>\n",
       "      <th>3</th>\n",
       "      <td>Arkansas</td>\n",
       "      <td>3017804</td>\n",
       "      <td>46</td>\n",
       "      <td>42.0</td>\n",
       "    </tr>\n",
       "    <tr>\n",
       "      <th>4</th>\n",
       "      <td>California</td>\n",
       "      <td>39512223</td>\n",
       "      <td>18</td>\n",
       "      <td>1354.0</td>\n",
       "    </tr>\n",
       "  </tbody>\n",
       "</table>\n",
       "</div>"
      ],
      "text/plain": [
       "        State  2019 Pop Est  Overall Rank  Total Deaths\n",
       "0     Alabama       4903185            48         194.0\n",
       "1      Alaska        731545             3           9.0\n",
       "2     Arizona       7278717            39         229.0\n",
       "3    Arkansas       3017804            46          42.0\n",
       "4  California      39512223            18        1354.0"
      ]
     },
     "execution_count": 6,
     "metadata": {},
     "output_type": "execute_result"
    }
   ],
   "source": [
    "rankpop_df = comb2_df.merge(pop_df,how = 'left',on = \"State\")\n",
    "rankpop_df2 = rankpop_df[[\"State\",\"2019 Pop Est\",\"Overall Rank\",\"Total Deaths\"]]\n",
    "rankpop_df2.head()"
   ]
  },
  {
   "cell_type": "code",
   "execution_count": 7,
   "metadata": {},
   "outputs": [],
   "source": [
    "x_values = rankpop_df2[\"Total Deaths\"]/rankpop_df2[\"2019 Pop Est\"]*100\n"
   ]
  },
  {
   "cell_type": "code",
   "execution_count": 11,
   "metadata": {},
   "outputs": [
    {
     "name": "stdout",
     "output_type": "stream",
     "text": [
      "The r-squared is: 0.19136114319713385\n"
     ]
    },
    {
     "data": {
      "image/png": "[encoded data removed]",
      "text/plain": [
       "<Figure size 432x288 with 1 Axes>"
      ]
     },
     "metadata": {
      "needs_background": "light"
     },
     "output_type": "display_data"
    },
    {
     "data": {
      "text/plain": [
       "<Figure size 432x288 with 0 Axes>"
      ]
     },
     "metadata": {},
     "output_type": "display_data"
    }
   ],
   "source": [
    "x_values = rankpop_df2[\"Overall Rank\"]\n",
    "y_values = rankpop_df2[\"Total Deaths\"]/rankpop_df2[\"2019 Pop Est\"]*100\n",
    "\n",
    "plt.scatter(x_values,y_values)\n",
    "plt.xlabel(\"Stay at Home Aggressiveness Rank\")\n",
    "plt.ylabel(\"Total Deaths (% Pop) by State\")\n",
    "plt.title(\"Aggressiveness Rank vs. Total Deaths (% Pop.) by State\")\n",
    "\n",
    "(slope, intercept, rvalue, pvalue, stderr) = linregress(x_values, y_values)\n",
    "regress_values = x_values * slope + intercept\n",
    "line_eq = \"y = \" + str(round(slope,2)) + \"x + \" + str(round(intercept,2))\n",
    "plt.plot(x_values,regress_values,\"r-\")\n",
    "plt.annotate(line_eq,(30,.04),fontsize=15,color=\"red\")\n",
    "print(f\"The r-squared is: {rvalue**2}\")\n",
    "plt.show()\n",
    "plt.savefig(\"Graph_PNGs_Folder/liz_aggressive_deaths1.png\")"
   ]
  },
  {
   "cell_type": "code",
   "execution_count": 24,
   "metadata": {},
   "outputs": [],
   "source": [
    "sorted_rankpop_df = rankpop_df2.sort_values(by='Overall Rank', ascending=True)\n",
    "sorted_top = sorted_rankpop_df.head(10)\n",
    "sorted_bottom = sorted_rankpop_df.tail(10)\n",
    "sorted_total = sorted_rankpop_df.loc[(sorted_rankpop_df['Overall Rank'] <12)|(sorted_rankpop_df['Overall Rank'] >41)]"
   ]
  },
  {
   "cell_type": "code",
   "execution_count": 26,
   "metadata": {},
   "outputs": [
    {
     "name": "stdout",
     "output_type": "stream",
     "text": [
      "20\n"
     ]
    }
   ],
   "source": [
    "sorted_total"
   ]
  },
  {
   "cell_type": "code",
   "execution_count": 27,
   "metadata": {},
   "outputs": [
    {
     "name": "stdout",
     "output_type": "stream",
     "text": [
      "The r-squared is: 0.23041109355952083\n"
     ]
    },
    {
     "data": {
      "image/png": "[encoded data removed]",
      "text/plain": [
       "<Figure size 432x288 with 1 Axes>"
      ]
     },
     "metadata": {
      "needs_background": "light"
     },
     "output_type": "display_data"
    },
    {
     "data": {
      "text/plain": [
       "<Figure size 432x288 with 0 Axes>"
      ]
     },
     "metadata": {},
     "output_type": "display_data"
    }
   ],
   "source": [
    "x_values = sorted_total[\"Overall Rank\"]\n",
    "y_values = sorted_total[\"Total Deaths\"]/sorted_total[\"2019 Pop Est\"]*100\n",
    "\n",
    "plt.scatter(x_values,y_values)\n",
    "plt.xlabel(\"Stay at Home Aggressiveness Rank (Top 10 & Bottom 10)\")\n",
    "plt.ylabel(\"Total Deaths (% Pop) by State\")\n",
    "plt.title(\"Aggressiveness Rank (Top 10 & Bottom 10) vs. Total Deaths (% Pop.) by State\")\n",
    "\n",
    "(slope, intercept, rvalue, pvalue, stderr) = linregress(x_values, y_values)\n",
    "regress_values = x_values * slope + intercept\n",
    "line_eq = \"y = \" + str(round(slope,2)) + \"x + \" + str(round(intercept,2))\n",
    "plt.plot(x_values,regress_values,\"r-\")\n",
    "plt.annotate(line_eq,(30,.04),fontsize=15,color=\"red\")\n",
    "print(f\"The r-squared is: {rvalue**2}\")\n",
    "plt.show()\n",
    "plt.savefig(\"Graph_PNGs_Folder/liz_aggressive_deaths_topbottom.png\")"
   ]
  },
  {
   "cell_type": "code",
   "execution_count": null,
   "metadata": {},
   "outputs": [],
   "source": []
  }
 ],
 "metadata": {
  "kernelspec": {
   "display_name": "Python 3",
   "language": "python",
   "name": "python3"
  },
  "language_info": {
   "codemirror_mode": {
    "name": "ipython",
    "version": 3
   },
   "file_extension": ".py",
   "mimetype": "text/x-python",
   "name": "python",
   "nbconvert_exporter": "python",
   "pygments_lexer": "ipython3",
   "version": "3.7.6"
  }
 },
 "nbformat": 4,
 "nbformat_minor": 4
}
