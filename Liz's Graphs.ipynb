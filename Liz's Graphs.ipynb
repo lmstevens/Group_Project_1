{
 "cells": [
  {
   "cell_type": "code",
   "execution_count": null,
   "metadata": {},
   "outputs": [],
   "source": [
    "#Liz Graphs\n",
    "#- pie chart total recovered (decided to not create because 1/3 of states lack recovery data)\n",
    "#- # of beds (% beds utilized) compared to total deaths (scatter plot)\n",
    "#- Chart states based on stay at home agressiveness rank (bar chart) "
   ]
  },
  {
   "cell_type": "code",
   "execution_count": 2,
   "metadata": {},
   "outputs": [],
   "source": [
    "import matplotlib.pyplot as plt\n",
    "import pandas as pd\n",
    "import numpy as np\n",
    "import requests\n",
    "import time \n",
    "import csv\n",
    "import os\n",
    "from pprint import pprint\n",
    "from pandas.io.json import json_normalize\n",
    "from scipy.stats import linregress"
   ]
  },
  {
   "cell_type": "code",
   "execution_count": 20,
   "metadata": {},
   "outputs": [
    {
     "data": {
      "text/html": [
       "<div>\n",
       "<style scoped>\n",
       "    .dataframe tbody tr th:only-of-type {\n",
       "        vertical-align: middle;\n",
       "    }\n",
       "\n",
       "    .dataframe tbody tr th {\n",
       "        vertical-align: top;\n",
       "    }\n",
       "\n",
       "    .dataframe thead th {\n",
       "        text-align: right;\n",
       "    }\n",
       "</style>\n",
       "<table border=\"1\" class=\"dataframe\">\n",
       "  <thead>\n",
       "    <tr style=\"text-align: right;\">\n",
       "      <th></th>\n",
       "      <th>Number of Hospitals</th>\n",
       "      <th>Number of Doctors</th>\n",
       "      <th>Number of Staff</th>\n",
       "      <th>ICU Beds Available</th>\n",
       "      <th>Average ICU Beds Utilized (%)</th>\n",
       "    </tr>\n",
       "    <tr>\n",
       "      <th>state_name</th>\n",
       "      <th></th>\n",
       "      <th></th>\n",
       "      <th></th>\n",
       "      <th></th>\n",
       "      <th></th>\n",
       "    </tr>\n",
       "  </thead>\n",
       "  <tbody>\n",
       "    <tr>\n",
       "      <th>Alabama</th>\n",
       "      <td>120</td>\n",
       "      <td>18628</td>\n",
       "      <td>14974</td>\n",
       "      <td>1105.0</td>\n",
       "      <td>0.427820</td>\n",
       "    </tr>\n",
       "    <tr>\n",
       "      <th>Alaska</th>\n",
       "      <td>28</td>\n",
       "      <td>1760</td>\n",
       "      <td>1542</td>\n",
       "      <td>106.0</td>\n",
       "      <td>0.312502</td>\n",
       "    </tr>\n",
       "    <tr>\n",
       "      <th>Arizona</th>\n",
       "      <td>126</td>\n",
       "      <td>17163</td>\n",
       "      <td>15379</td>\n",
       "      <td>1263.0</td>\n",
       "      <td>0.440888</td>\n",
       "    </tr>\n",
       "    <tr>\n",
       "      <th>Arkansas</th>\n",
       "      <td>106</td>\n",
       "      <td>12869</td>\n",
       "      <td>9990</td>\n",
       "      <td>667.0</td>\n",
       "      <td>0.410748</td>\n",
       "    </tr>\n",
       "    <tr>\n",
       "      <th>California</th>\n",
       "      <td>466</td>\n",
       "      <td>85161</td>\n",
       "      <td>80802</td>\n",
       "      <td>6925.0</td>\n",
       "      <td>0.465057</td>\n",
       "    </tr>\n",
       "  </tbody>\n",
       "</table>\n",
       "</div>"
      ],
      "text/plain": [
       "            Number of Hospitals  Number of Doctors  Number of Staff  \\\n",
       "state_name                                                            \n",
       "Alabama                     120              18628            14974   \n",
       "Alaska                       28               1760             1542   \n",
       "Arizona                     126              17163            15379   \n",
       "Arkansas                    106              12869             9990   \n",
       "California                  466              85161            80802   \n",
       "\n",
       "            ICU Beds Available  Average ICU Beds Utilized (%)  \n",
       "state_name                                                     \n",
       "Alabama                 1105.0                       0.427820  \n",
       "Alaska                   106.0                       0.312502  \n",
       "Arizona                 1263.0                       0.440888  \n",
       "Arkansas                 667.0                       0.410748  \n",
       "California              6925.0                       0.465057  "
      ]
     },
     "execution_count": 20,
     "metadata": {},
     "output_type": "execute_result"
    }
   ],
   "source": [
    "#Liz's Hospital Dataframe\n",
    "#read in .csv file\n",
    "hospital_data = pd.read_csv(\"CSV Folder/hospitals.csv\")\n",
    "#set index to state_name\n",
    "hospital_data.set_index(\"state_name\",inplace=True)\n",
    "\n",
    "#get rid of the NaaN values by adding a 0 instead in select columns\n",
    "hospital_data[\"num_icu_be\"].fillna(0, inplace = True)\n",
    "hospital_data[\"bed_utiliz\"].fillna(0, inplace = True)\n",
    "\n",
    "#get rid of data where inputs are \"****\" to also equal 0 in select columns\n",
    "hospital_data[\"num_licens\"].replace(\"****\",0,inplace = True)\n",
    "hospital_data[\"num_staffe\"].replace(\"****\",0,inplace = True)\n",
    "\n",
    "#Change the data format from string to ojbect in select columns\n",
    "hospital_data['num_licens']=hospital_data['num_licens'].astype(int)\n",
    "hospital_data['num_staffe']=hospital_data['num_staffe'].astype(int)\n",
    "\n",
    "#group dataframe by state_name\n",
    "hg = hospital_data.groupby('state_name')\n",
    "\n",
    "#do count of hg dataframe (where it groups by states)to get total sum of hospitals, doctors, staff,\n",
    "#icu beds, and icu beds utilized. Then add each series to new dataframe called 'state_hospital_data'\n",
    "hg[\"num_icu_be\"].count()\n",
    "state_hospital_data = pd.DataFrame(hg[\"num_icu_be\"].sum())\n",
    "\n",
    "hospitals = hg[\"hospital_n\"].count()\n",
    "state_hospital_data[\"Number of Hospitals\"]=hospitals\n",
    "doctors = hg[\"num_licens\"].sum()\n",
    "state_hospital_data[\"Number of Doctors\"]=doctors\n",
    "staff = hg[\"num_staffe\"].sum()\n",
    "state_hospital_data[\"Number of Staff\"]=staff\n",
    "icu_beds = hg[\"num_icu_be\"].sum()\n",
    "state_hospital_data[\"ICU Beds Available\"]=icu_beds\n",
    "#do a .mean (to get the average % of ICU beds utilized by state)\n",
    "bed_utiliz = hg[\"bed_utiliz\"].mean()\n",
    "state_hospital_data[\"Average ICU Beds Utilized (%)\"]=bed_utiliz\n",
    "#drop double num_icu_be column\n",
    "state_hospital_data.drop(\"num_icu_be\",axis=1, inplace = True)\n",
    "state_hospital_data.head()"
   ]
  },
  {
   "cell_type": "code",
   "execution_count": 2,
   "metadata": {},
   "outputs": [],
   "source": []
  },
  {
   "cell_type": "code",
   "execution_count": 21,
   "metadata": {},
   "outputs": [
    {
     "name": "stderr",
     "output_type": "stream",
     "text": [
      "/Users/lizstevens/opt/anaconda3/lib/python3.7/site-packages/ipykernel_launcher.py:5: FutureWarning: pandas.io.json.json_normalize is deprecated, use pandas.json_normalize instead\n",
      "  \"\"\"\n"
     ]
    },
    {
     "data": {
      "text/html": [
       "<div>\n",
       "<style scoped>\n",
       "    .dataframe tbody tr th:only-of-type {\n",
       "        vertical-align: middle;\n",
       "    }\n",
       "\n",
       "    .dataframe tbody tr th {\n",
       "        vertical-align: top;\n",
       "    }\n",
       "\n",
       "    .dataframe thead th {\n",
       "        text-align: right;\n",
       "    }\n",
       "</style>\n",
       "<table border=\"1\" class=\"dataframe\">\n",
       "  <thead>\n",
       "    <tr style=\"text-align: right;\">\n",
       "      <th></th>\n",
       "      <th>State</th>\n",
       "      <th>Positive</th>\n",
       "      <th>Negative</th>\n",
       "      <th>Pending</th>\n",
       "      <th>Total Tested</th>\n",
       "      <th>Recovered</th>\n",
       "      <th>Currently Hospitalized</th>\n",
       "      <th>Total Deaths</th>\n",
       "      <th>Number of Hospitals</th>\n",
       "      <th>Number of Doctors</th>\n",
       "      <th>Number of Staff</th>\n",
       "      <th>ICU Beds Available</th>\n",
       "      <th>Average ICU Beds Utilized (%)</th>\n",
       "      <th>Overall Rank</th>\n",
       "      <th>Prevention &amp; Containment Rank</th>\n",
       "      <th>Risk Factors &amp; Infrastructure Rank</th>\n",
       "      <th>Economic Impact Rank</th>\n",
       "      <th>Delta in Overall Rank vs. March 23</th>\n",
       "    </tr>\n",
       "  </thead>\n",
       "  <tbody>\n",
       "    <tr>\n",
       "      <th>0</th>\n",
       "      <td>Alabama</td>\n",
       "      <td>5832</td>\n",
       "      <td>46863</td>\n",
       "      <td>NaN</td>\n",
       "      <td>52695</td>\n",
       "      <td>NaN</td>\n",
       "      <td>NaN</td>\n",
       "      <td>197.0</td>\n",
       "      <td>120</td>\n",
       "      <td>18628</td>\n",
       "      <td>14974</td>\n",
       "      <td>1105.0</td>\n",
       "      <td>0.427820</td>\n",
       "      <td>48</td>\n",
       "      <td>48</td>\n",
       "      <td>45</td>\n",
       "      <td>2</td>\n",
       "      <td>-15</td>\n",
       "    </tr>\n",
       "    <tr>\n",
       "      <th>1</th>\n",
       "      <td>Alaska</td>\n",
       "      <td>339</td>\n",
       "      <td>11942</td>\n",
       "      <td>NaN</td>\n",
       "      <td>12281</td>\n",
       "      <td>208.0</td>\n",
       "      <td>36.0</td>\n",
       "      <td>9.0</td>\n",
       "      <td>28</td>\n",
       "      <td>1760</td>\n",
       "      <td>1542</td>\n",
       "      <td>106.0</td>\n",
       "      <td>0.312502</td>\n",
       "      <td>3</td>\n",
       "      <td>2</td>\n",
       "      <td>11</td>\n",
       "      <td>40</td>\n",
       "      <td>11</td>\n",
       "    </tr>\n",
       "    <tr>\n",
       "      <th>2</th>\n",
       "      <td>Arizona</td>\n",
       "      <td>6045</td>\n",
       "      <td>54669</td>\n",
       "      <td>NaN</td>\n",
       "      <td>60714</td>\n",
       "      <td>1313.0</td>\n",
       "      <td>639.0</td>\n",
       "      <td>266.0</td>\n",
       "      <td>126</td>\n",
       "      <td>17163</td>\n",
       "      <td>15379</td>\n",
       "      <td>1263.0</td>\n",
       "      <td>0.440888</td>\n",
       "      <td>39</td>\n",
       "      <td>36</td>\n",
       "      <td>46</td>\n",
       "      <td>19</td>\n",
       "      <td>-1</td>\n",
       "    </tr>\n",
       "    <tr>\n",
       "      <th>3</th>\n",
       "      <td>Arkansas</td>\n",
       "      <td>2741</td>\n",
       "      <td>32837</td>\n",
       "      <td>NaN</td>\n",
       "      <td>35578</td>\n",
       "      <td>929.0</td>\n",
       "      <td>101.0</td>\n",
       "      <td>45.0</td>\n",
       "      <td>106</td>\n",
       "      <td>12869</td>\n",
       "      <td>9990</td>\n",
       "      <td>667.0</td>\n",
       "      <td>0.410748</td>\n",
       "      <td>46</td>\n",
       "      <td>45</td>\n",
       "      <td>49</td>\n",
       "      <td>5</td>\n",
       "      <td>1</td>\n",
       "    </tr>\n",
       "    <tr>\n",
       "      <th>4</th>\n",
       "      <td>California</td>\n",
       "      <td>39254</td>\n",
       "      <td>454919</td>\n",
       "      <td>NaN</td>\n",
       "      <td>494173</td>\n",
       "      <td>NaN</td>\n",
       "      <td>4880.0</td>\n",
       "      <td>1562.0</td>\n",
       "      <td>466</td>\n",
       "      <td>85161</td>\n",
       "      <td>80802</td>\n",
       "      <td>6925.0</td>\n",
       "      <td>0.465057</td>\n",
       "      <td>18</td>\n",
       "      <td>15</td>\n",
       "      <td>44</td>\n",
       "      <td>16</td>\n",
       "      <td>-17</td>\n",
       "    </tr>\n",
       "  </tbody>\n",
       "</table>\n",
       "</div>"
      ],
      "text/plain": [
       "        State  Positive  Negative  Pending  Total Tested  Recovered  \\\n",
       "0     Alabama      5832     46863      NaN         52695        NaN   \n",
       "1      Alaska       339     11942      NaN         12281      208.0   \n",
       "2     Arizona      6045     54669      NaN         60714     1313.0   \n",
       "3    Arkansas      2741     32837      NaN         35578      929.0   \n",
       "4  California     39254    454919      NaN        494173        NaN   \n",
       "\n",
       "   Currently Hospitalized  Total Deaths  Number of Hospitals  \\\n",
       "0                     NaN         197.0                  120   \n",
       "1                    36.0           9.0                   28   \n",
       "2                   639.0         266.0                  126   \n",
       "3                   101.0          45.0                  106   \n",
       "4                  4880.0        1562.0                  466   \n",
       "\n",
       "   Number of Doctors  Number of Staff  ICU Beds Available  \\\n",
       "0              18628            14974              1105.0   \n",
       "1               1760             1542               106.0   \n",
       "2              17163            15379              1263.0   \n",
       "3              12869             9990               667.0   \n",
       "4              85161            80802              6925.0   \n",
       "\n",
       "   Average ICU Beds Utilized (%)  Overall Rank  Prevention & Containment Rank  \\\n",
       "0                       0.427820            48                             48   \n",
       "1                       0.312502             3                              2   \n",
       "2                       0.440888            39                             36   \n",
       "3                       0.410748            46                             45   \n",
       "4                       0.465057            18                             15   \n",
       "\n",
       "   Risk Factors & Infrastructure Rank  Economic Impact Rank  \\\n",
       "0                                  45                     2   \n",
       "1                                  11                    40   \n",
       "2                                  46                    19   \n",
       "3                                  49                     5   \n",
       "4                                  44                    16   \n",
       "\n",
       "   Delta in Overall Rank vs. March 23  \n",
       "0                                 -15  \n",
       "1                                  11  \n",
       "2                                  -1  \n",
       "3                                   1  \n",
       "4                                 -17  "
      ]
     },
     "execution_count": 21,
     "metadata": {},
     "output_type": "execute_result"
    }
   ],
   "source": [
    "# reaching out to API to get current overall state data pertaining to cases, tests, hospitalizations, and deaths\n",
    "url3 = \"https://covidtracking.com/api/states\"\n",
    "response3 = requests.get(url3)\n",
    "#Turned entire response into a dataframe\n",
    "US_df = json_normalize(response3.json(), errors='ignore')\n",
    "#Narrowed df to specific columns of interest \n",
    "US_df = US_df.iloc[:,[0,1,10,11,24,18,12,21]]\n",
    "\n",
    "#Read in a State Name Abbrev CSV so that df's could be joined with different state naming conventions\n",
    "st_abrev = pd.read_csv(\"CSV Folder/Covid Analysis Data - StateNameAbrev.csv\")\n",
    "\n",
    "# Replacing the state abbreviation with names for joining to other data\n",
    "tests_df = st_abrev.merge(US_df, how = 'inner',left_on = \"Abbreviation\",right_on = \"state\")\n",
    "\n",
    "#Droping abbreviation column since no other dataset used abbrev.\n",
    "tests_df.drop(columns = [\"Abbreviation\",\"state\"],inplace = True)\n",
    "\n",
    "#Joined hospital information with the general information\n",
    "comb1_df= tests_df.merge(state_hospital_data,how = 'inner',left_on = \"State\",right_on = \"state_name\")\n",
    "#comb1_df.drop(columns = \"state_name\", inplace = True)\n",
    "\n",
    "#Read in file about rankings of aggressive measures limiting the virus spread\n",
    "States_Most_Aggressive_Measures_df = pd.read_csv(\"CSV Folder/States with the Most Aggressive Measures in Limiting Virus Exposure.csv\", encoding ='latin-1')\n",
    "\n",
    "#Joined rankings data\n",
    "comb2_df = comb1_df.merge(States_Most_Aggressive_Measures_df, how = 'inner', on = 'State' )\n",
    "\n",
    "#Renamed Column Headers\n",
    "comb2_df.rename(columns = {\"positive\":\"Positive\",\n",
    "                           \"negative\":\"Negative\",\n",
    "                           \"pending\":\"Pending\",\n",
    "                           \"totalTestResults\": \"Total Tested\",\n",
    "                           \"recovered\": \"Recovered\",\n",
    "                           \"hospitalizedCurrently\":\"Currently Hospitalized\",\n",
    "                           \"death\": \"Total Deaths\",\n",
    "                           \"num_icu_be\":\"ICU Beds\",\n",
    "                           \"Prevention & Containment Rank\": \"Prevention & Containment Rank\",\n",
    "                           \"Risk Factors & Infrastructure Rank\": \"Risk Factors & Infrastructure Rank\",\n",
    "                           \"Economic Impact Rank\": \"Economic Impact Rank\"}, inplace = True)\n",
    "comb2_df.head()"
   ]
  },
  {
   "cell_type": "code",
   "execution_count": 22,
   "metadata": {},
   "outputs": [],
   "source": [
    "pop_df = pd.read_csv(\"CSV Folder/SCPRC-EST2019-18+POP-RES.csv\")\n",
    "pop_df= pop_df[[\"NAME\", \"POPESTIMATE2019\",\"POPEST18PLUS2019\",\"PCNT_POPEST18PLUS\"]]\n",
    "pop_df = pop_df.rename(columns = {\"NAME\": \"State\",\"POPESTIMATE2019\":\"2019 Pop Est\",\"POPEST18PLUS2019\":\"2019 18+\",\"PCNT_POPEST18PLUS\":\"Percent 18+\"})"
   ]
  },
  {
   "cell_type": "code",
   "execution_count": 19,
   "metadata": {},
   "outputs": [
    {
     "name": "stdout",
     "output_type": "stream",
     "text": [
      "The r-squared is: 0.09608412628089937\n"
     ]
    },
    {
     "data": {
      "image/png": "[encoded data removed]",
      "text/plain": [
       "<Figure size 432x288 with 1 Axes>"
      ]
     },
     "metadata": {
      "needs_background": "light"
     },
     "output_type": "display_data"
    }
   ],
   "source": [
    "x_values = comb2_df[\"ICU Beds Utilized\"]\n",
    "y_values = comb2_df[\"Total Deaths\"]\n",
    "plt.scatter(x_values,y_values)\n",
    "plt.xlabel(\"ICU Beds Utilized by State\")\n",
    "plt.ylabel(\"Total Deaths by State\")\n",
    "plt.title(\"ICU Beds Utilized VS. Total Deaths by State\")\n",
    "\n",
    "\n",
    "(slope, intercept, rvalue, pvalue, stderr) = linregress(x_values, y_values)\n",
    "regress_values = x_values * slope + intercept\n",
    "line_eq = \"y = \" + str(round(slope,2)) + \"x + \" + str(round(intercept,2))\n",
    "plt.plot(x_values,regress_values,\"r-\")\n",
    "plt.annotate(line_eq,(100,10000),fontsize=15,color=\"red\")\n",
    "print(f\"The r-squared is: {rvalue**2}\")\n",
    "plt.savefig(\"PNG Folder/liz_bedsutilizedvsdeaths_scatter_final.png\")"
   ]
  },
  {
   "cell_type": "code",
   "execution_count": 16,
   "metadata": {},
   "outputs": [
    {
     "name": "stderr",
     "output_type": "stream",
     "text": [
      "/Users/lizstevens/opt/anaconda3/lib/python3.7/site-packages/ipykernel_launcher.py:3: SettingWithCopyWarning: \n",
      "A value is trying to be set on a copy of a slice from a DataFrame\n",
      "\n",
      "See the caveats in the documentation: https://pandas.pydata.org/pandas-docs/stable/user_guide/indexing.html#returning-a-view-versus-a-copy\n",
      "  This is separate from the ipykernel package so we can avoid doing imports until\n"
     ]
    }
   ],
   "source": [
    "rankpop_df = comb2_df.merge(pop_df,how = 'left',on = \"State\")\n",
    "rankpop_df2 = rankpop_df[[\"State\",\"2019 Pop Est\",\"Overall Rank\",\"Total Deaths\"]]\n",
    "rankpop_df2.sort_values(\"Overall Rank\", inplace=True)\n",
    "rankpop_df2.reset_index(inplace=True,drop=True)"
   ]
  },
  {
   "cell_type": "code",
   "execution_count": 17,
   "metadata": {},
   "outputs": [
    {
     "name": "stdout",
     "output_type": "stream",
     "text": [
      "The r-squared is: 0.18763247899955512\n"
     ]
    },
    {
     "data": {
      "text/plain": [
       "<function matplotlib.pyplot.show(*args, **kw)>"
      ]
     },
     "execution_count": 17,
     "metadata": {},
     "output_type": "execute_result"
    },
    {
     "data": {
      "image/png": "[encoded data removed]",
      "text/plain": [
       "<Figure size 432x288 with 1 Axes>"
      ]
     },
     "metadata": {
      "needs_background": "light"
     },
     "output_type": "display_data"
    }
   ],
   "source": [
    "x_values = range(1,51)\n",
    "y_values = rankpop_df2[\"Total Deaths\"]/rankpop_df2[\"2019 Pop Est\"]*100\n",
    "labels =rankpop_df2[\"State\"]\n",
    "\n",
    "plt.scatter(x_values,y_values)\n",
    "plt.xlabel(\"Stay at Home Aggressiveness Rank\")\n",
    "plt.ylabel(\"Total Deaths (% Pop) by State\")\n",
    "plt.title(\"Aggressiveness Rank vs. Total Deaths (% Pop.) by State\")\n",
    "\n",
    "(slope, intercept, rvalue, pvalue, stderr) = linregress(x_values, y_values)\n",
    "regress_values = x_values * slope + intercept\n",
    "line_eq = \"y = \" + str(round(slope,2)) + \"x + \" + str(round(intercept,2))\n",
    "plt.plot(x_values,regress_values,\"r-\")\n",
    "plt.annotate(line_eq,(30,.04),fontsize=15,color=\"red\")\n",
    "print(f\"The r-squared is: {rvalue**2}\")\n",
    "plt.savefig(\"PNG Folder/liz_stateaggressive_scatter_final.png\")\n",
    "plt.show"
   ]
  },
  {
   "cell_type": "code",
   "execution_count": 18,
   "metadata": {},
   "outputs": [
    {
     "data": {
      "image/png": "[encoded data removed]",
      "text/plain": [
       "<Figure size 720x360 with 1 Axes>"
      ]
     },
     "metadata": {
      "needs_background": "light"
     },
     "output_type": "display_data"
    }
   ],
   "source": [
    "labels =rankpop_df2[\"State\"]\n",
    "fig1, ax1 = plt.subplots(figsize=(10, 5))\n",
    "ax1.bar(x_values,y_values,align=\"center\")\n",
    "plt.xticks(x_values,labels, rotation='vertical')\n",
    "plt.xlabel(\"Stay at Home Aggressiveness Rank (Left to Right)\")\n",
    "plt.ylabel(\"Total Deaths (% Pop) by State\")\n",
    "plt.title(\"Aggressiveness Rank vs. Total Deaths (% Pop.) by State\")\n",
    "plt.tight_layout()\n",
    "plt.savefig(\"PNG Folder/liz_stateaggressive_bar_final.png\")\n",
    "plt.show()\n"
   ]
  },
  {
   "cell_type": "code",
   "execution_count": 26,
   "metadata": {},
   "outputs": [
    {
     "name": "stdout",
     "output_type": "stream",
     "text": [
      "20\n"
     ]
    }
   ],
   "source": [
    "sorted_rankpop_df = rankpop_df2.sort_values(by='Overall Rank', ascending=True)\n",
    "sorted_top = sorted_rankpop_df.head(10)\n",
    "sorted_bottom = sorted_rankpop_df.tail(10)\n",
    "sorted_total = sorted_rankpop_df.loc[(sorted_rankpop_df['Overall Rank'] <12)|(sorted_rankpop_df['Overall Rank'] >41)]\n",
    "print(len(sorted_total))"
   ]
  },
  {
   "cell_type": "code",
   "execution_count": 27,
   "metadata": {},
   "outputs": [
    {
     "name": "stdout",
     "output_type": "stream",
     "text": [
      "The r-squared is: 0.2327349901907397\n",
      "20\n"
     ]
    },
    {
     "data": {
      "image/png": "[encoded data removed]",
      "text/plain": [
       "<Figure size 432x288 with 1 Axes>"
      ]
     },
     "metadata": {
      "needs_background": "light"
     },
     "output_type": "display_data"
    }
   ],
   "source": [
    "x_values = sorted_total[\"Overall Rank\"]\n",
    "y_values = sorted_total[\"Total Deaths\"]/sorted_total[\"2019 Pop Est\"]*100\n",
    "\n",
    "plt.scatter(x_values,y_values)\n",
    "plt.xlabel(\"Stay at Home Aggressiveness Rank (Top 10 & Bottom 10)\")\n",
    "plt.ylabel(\"Total Deaths (% Pop) by State\")\n",
    "plt.title(\"Aggressiveness Rank (Top 10 & Bottom 10) vs. Total Deaths (% Pop.) by State\")\n",
    "\n",
    "(slope, intercept, rvalue, pvalue, stderr) = linregress(x_values, y_values)\n",
    "regress_values = x_values * slope + intercept\n",
    "line_eq = \"y = \" + str(round(slope,2)) + \"x + \" + str(round(intercept,2))\n",
    "plt.plot(x_values,regress_values,\"r-\")\n",
    "plt.annotate(line_eq,(30,.04),fontsize=15,color=\"red\")\n",
    "print(f\"The r-squared is: {rvalue**2}\")\n",
    "#plt.savefig(\"PNG Folder/lizaggressivetopbottom.png\")\n",
    "print(len(sorted_total))"
   ]
  },
  {
   "cell_type": "code",
   "execution_count": null,
   "metadata": {},
   "outputs": [],
   "source": []
  }
 ],
 "metadata": {
  "kernelspec": {
   "display_name": "Python 3",
   "language": "python",
   "name": "python3"
  },
  "language_info": {
   "codemirror_mode": {
    "name": "ipython",
    "version": 3
   },
   "file_extension": ".py",
   "mimetype": "text/x-python",
   "name": "python",
   "nbconvert_exporter": "python",
   "pygments_lexer": "ipython3",
   "version": "3.7.6"
  }
 },
 "nbformat": 4,
 "nbformat_minor": 4
}
