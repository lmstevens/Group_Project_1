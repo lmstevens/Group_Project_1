{
 "cells": [
  {
   "cell_type": "code",
   "execution_count": 1,
   "metadata": {},
   "outputs": [],
   "source": [
    "import matplotlib.pyplot as plt\n",
    "import pandas as pd\n",
    "import numpy as np\n",
    "import requests\n",
    "import time \n",
    "import csv\n",
    "import os\n",
    "from pprint import pprint\n",
    "from pandas.io.json import json_normalize"
   ]
  },
  {
   "cell_type": "code",
   "execution_count": 4,
   "metadata": {},
   "outputs": [
    {
     "name": "stderr",
     "output_type": "stream",
     "text": [
      "/Users/lizstevens/opt/anaconda3/lib/python3.7/site-packages/ipykernel_launcher.py:5: FutureWarning: pandas.io.json.json_normalize is deprecated, use pandas.json_normalize instead\n",
      "  \"\"\"\n"
     ]
    },
    {
     "ename": "NameError",
     "evalue": "name 'state_hospital_data' is not defined",
     "output_type": "error",
     "traceback": [
      "\u001b[0;31m---------------------------------------------------------------------------\u001b[0m",
      "\u001b[0;31mNameError\u001b[0m                                 Traceback (most recent call last)",
      "\u001b[0;32m<ipython-input-4-52efca42be2b>\u001b[0m in \u001b[0;36m<module>\u001b[0;34m\u001b[0m\n\u001b[1;32m     17\u001b[0m \u001b[0;34m\u001b[0m\u001b[0m\n\u001b[1;32m     18\u001b[0m \u001b[0;31m#Joined hospital information with the general information\u001b[0m\u001b[0;34m\u001b[0m\u001b[0;34m\u001b[0m\u001b[0;34m\u001b[0m\u001b[0m\n\u001b[0;32m---> 19\u001b[0;31m \u001b[0mcomb1_df\u001b[0m\u001b[0;34m=\u001b[0m \u001b[0mtests_df\u001b[0m\u001b[0;34m.\u001b[0m\u001b[0mmerge\u001b[0m\u001b[0;34m(\u001b[0m\u001b[0mstate_hospital_data\u001b[0m\u001b[0;34m,\u001b[0m\u001b[0mhow\u001b[0m \u001b[0;34m=\u001b[0m \u001b[0;34m'inner'\u001b[0m\u001b[0;34m,\u001b[0m\u001b[0mleft_on\u001b[0m \u001b[0;34m=\u001b[0m \u001b[0;34m\"State\"\u001b[0m\u001b[0;34m,\u001b[0m\u001b[0mright_on\u001b[0m \u001b[0;34m=\u001b[0m \u001b[0;34m\"state_name\"\u001b[0m\u001b[0;34m)\u001b[0m\u001b[0;34m\u001b[0m\u001b[0;34m\u001b[0m\u001b[0m\n\u001b[0m\u001b[1;32m     20\u001b[0m \u001b[0;31m#comb1_df.drop(columns = \"state_name\", inplace = True)\u001b[0m\u001b[0;34m\u001b[0m\u001b[0;34m\u001b[0m\u001b[0;34m\u001b[0m\u001b[0m\n\u001b[1;32m     21\u001b[0m \u001b[0;34m\u001b[0m\u001b[0m\n",
      "\u001b[0;31mNameError\u001b[0m: name 'state_hospital_data' is not defined"
     ]
    }
   ],
   "source": [
    "# reaching out to API to get current overall state data pertaining to cases, tests, hospitalizations, and deaths\n",
    "url3 = \"https://covidtracking.com/api/states\"\n",
    "response3 = requests.get(url3)\n",
    "#Turned entire response into a dataframe\n",
    "US_df = json_normalize(response3.json(), errors='ignore')\n",
    "#Narrowed df to specific columns of interest \n",
    "US_df = US_df.iloc[:,[0,1,8,9,22,16,10,19]]\n",
    "\n",
    "#Read in a State Name Abbrev CSV so that df's could be joined with different state naming conventions\n",
    "st_abrev = pd.read_csv(\"CSV Folder/Covid Analysis Data - StateNameAbrev.csv\")\n",
    "\n",
    "# Replacing the state abbreviation with names for joining to other data\n",
    "tests_df = st_abrev.merge(US_df, how = 'inner',left_on = \"Abbreviation\",right_on = \"state\")\n",
    "\n",
    "#Droping abbreviation column since no other dataset used abbrev.\n",
    "tests_df.drop(columns = [\"Abbreviation\",\"state\"],inplace = True)\n",
    "\n",
    "#Joined hospital information with the general information\n",
    "comb1_df= tests_df.merge(state_hospital_data,how = 'inner',left_on = \"State\",right_on = \"state_name\")\n",
    "#comb1_df.drop(columns = \"state_name\", inplace = True)\n",
    "\n",
    "#Read in file about rankings of aggressive measures limiting the virus spread\n",
    "States_Most_Aggressive_Measures_df = pd.read_csv(\"CSV Folder/States with the Most Aggressive Measures in Limiting Virus Exposure.csv\", encoding ='latin-1')\n",
    "\n",
    "#Joined rankings data\n",
    "comb2_df = comb1_df.merge(States_Most_Aggressive_Measures_df, how = 'inner', on = 'State' )\n",
    "\n",
    "#Renamed Column Headers\n",
    "comb2_df.rename(columns = {\"positive\":\"Positive\",\n",
    "                           \"negative\":\"Negative\",\n",
    "                           \"pending\":\"Pending\",\n",
    "                           \"totalTestResults\": \"Total Tested\",\n",
    "                           \"recovered\": \"Recovered\",\n",
    "                           \"hospitalizedCurrently\":\"Currently Hospitalized\",\n",
    "                           \"death\": \"Total Deaths\",\n",
    "                           \"num_icu_be\":\"ICU Beds\",\n",
    "                           \"Prevention & Containment Rank\": \"Prevention & Containment Rank\",\n",
    "                           \"Risk Factors & Infrastructure Rank\": \"Risk Factors & Infrastructure Rank\",\n",
    "                           \"Economic Impact Rank\": \"Economic Impact Rank\"}, inplace = True)"
   ]
  },
  {
   "cell_type": "code",
   "execution_count": 3,
   "metadata": {},
   "outputs": [
    {
     "data": {
      "text/html": [
       "<div>\n",
       "<style scoped>\n",
       "    .dataframe tbody tr th:only-of-type {\n",
       "        vertical-align: middle;\n",
       "    }\n",
       "\n",
       "    .dataframe tbody tr th {\n",
       "        vertical-align: top;\n",
       "    }\n",
       "\n",
       "    .dataframe thead th {\n",
       "        text-align: right;\n",
       "    }\n",
       "</style>\n",
       "<table border=\"1\" class=\"dataframe\">\n",
       "  <thead>\n",
       "    <tr style=\"text-align: right;\">\n",
       "      <th></th>\n",
       "      <th>date</th>\n",
       "      <th>state</th>\n",
       "      <th>cases</th>\n",
       "      <th>Deaths</th>\n",
       "    </tr>\n",
       "  </thead>\n",
       "  <tbody>\n",
       "    <tr>\n",
       "      <th>0</th>\n",
       "      <td>2020-01-21</td>\n",
       "      <td>Washington</td>\n",
       "      <td>1</td>\n",
       "      <td>0</td>\n",
       "    </tr>\n",
       "    <tr>\n",
       "      <th>1</th>\n",
       "      <td>2020-01-22</td>\n",
       "      <td>Washington</td>\n",
       "      <td>1</td>\n",
       "      <td>0</td>\n",
       "    </tr>\n",
       "    <tr>\n",
       "      <th>2</th>\n",
       "      <td>2020-01-23</td>\n",
       "      <td>Washington</td>\n",
       "      <td>1</td>\n",
       "      <td>0</td>\n",
       "    </tr>\n",
       "    <tr>\n",
       "      <th>3</th>\n",
       "      <td>2020-01-24</td>\n",
       "      <td>Illinois</td>\n",
       "      <td>1</td>\n",
       "      <td>0</td>\n",
       "    </tr>\n",
       "    <tr>\n",
       "      <th>4</th>\n",
       "      <td>2020-01-24</td>\n",
       "      <td>Washington</td>\n",
       "      <td>1</td>\n",
       "      <td>0</td>\n",
       "    </tr>\n",
       "  </tbody>\n",
       "</table>\n",
       "</div>"
      ],
      "text/plain": [
       "         date       state  cases  Deaths\n",
       "0  2020-01-21  Washington      1       0\n",
       "1  2020-01-22  Washington      1       0\n",
       "2  2020-01-23  Washington      1       0\n",
       "3  2020-01-24    Illinois      1       0\n",
       "4  2020-01-24  Washington      1       0"
      ]
     },
     "execution_count": 3,
     "metadata": {},
     "output_type": "execute_result"
    }
   ],
   "source": [
    "final_df.head()"
   ]
  },
  {
   "cell_type": "code",
   "execution_count": null,
   "metadata": {},
   "outputs": [],
   "source": []
  }
 ],
 "metadata": {
  "kernelspec": {
   "display_name": "Python 3",
   "language": "python",
   "name": "python3"
  },
  "language_info": {
   "codemirror_mode": {
    "name": "ipython",
    "version": 3
   },
   "file_extension": ".py",
   "mimetype": "text/x-python",
   "name": "python",
   "nbconvert_exporter": "python",
   "pygments_lexer": "ipython3",
   "version": "3.7.6"
  }
 },
 "nbformat": 4,
 "nbformat_minor": 4
}
